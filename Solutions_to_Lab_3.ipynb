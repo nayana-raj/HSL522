{
  "nbformat": 4,
  "nbformat_minor": 0,
  "metadata": {
    "colab": {
      "name": "Solutions to Lab 3.ipynb",
      "provenance": [],
      "collapsed_sections": [],
      "include_colab_link": true
    },
    "kernelspec": {
      "name": "python3",
      "display_name": "Python 3"
    },
    "language_info": {
      "name": "python"
    }
  },
  "cells": [
    {
      "cell_type": "markdown",
      "metadata": {
        "id": "view-in-github",
        "colab_type": "text"
      },
      "source": [
        "<a href=\"https://colab.research.google.com/github/nayana-raj/HSL522/blob/main/Solutions_to_Lab_3.ipynb\" target=\"_parent\"><img src=\"https://colab.research.google.com/assets/colab-badge.svg\" alt=\"Open In Colab\"/></a>"
      ]
    },
    {
      "cell_type": "markdown",
      "metadata": {
        "id": "4T5jO1DoYNbc"
      },
      "source": [
        "\n",
        "\n",
        "1.   Write a program that takes as input 5 integer numbers and outputs the largest even number.\n",
        "\n",
        "\n"
      ]
    },
    {
      "cell_type": "code",
      "metadata": {
        "id": "lPUKk-gwfbRD"
      },
      "source": [
        "#Pranab Bagartti\n",
        "toPrint = ''\n",
        "lastnum= 0\n",
        "K = 1\n",
        "while K<=5:\n",
        "    newnum = int(input('number likho: '))\n",
        "    K+=1\n",
        "    if newnum > lastnum and newnum%2 == 0:\n",
        "        toPrint = newnum\n",
        "        lastnum = newnum\n",
        "\n",
        "print('the largest even number is: ', toPrint)"
      ],
      "execution_count": null,
      "outputs": []
    },
    {
      "cell_type": "code",
      "metadata": {
        "colab": {
          "base_uri": "https://localhost:8080/"
        },
        "id": "GUit8zZEYWMm",
        "outputId": "7c73ca67-8a93-4dd4-81bf-80852569c2d6"
      },
      "source": [
        "#Nayana\n",
        "toPrint = ''\n",
        "lastnum = 0 # to compare against the current number\n",
        "outeriter = 1 # to loop through 5 numbers\n",
        "while outeriter <= 5:\n",
        "    inputnum = int(input('Enter an integer number'))\n",
        "    outeriter+=1\n",
        "    if inputnum > lastnum and inputnum%2 == 0: # 'and' operator: execute whatever is inside loop only if both conditionals are True\n",
        "            lastnum = inputnum\n",
        "toPrint = lastnum\n",
        "print('The largest even number is  ', toPrint)"
      ],
      "execution_count": null,
      "outputs": [
        {
          "output_type": "stream",
          "text": [
            "Enter an integer number45\n",
            "Enter an integer number23\n",
            "Enter an integer number87\n",
            "Enter an integer number67\n",
            "Enter an integer number54\n",
            "The largest even number is   54\n"
          ],
          "name": "stdout"
        }
      ]
    },
    {
      "cell_type": "code",
      "metadata": {
        "id": "H02couDOh4Vi",
        "colab": {
          "base_uri": "https://localhost:8080/"
        },
        "outputId": "c5693a2a-523f-4d42-fd9b-d04ce01de760"
      },
      "source": [
        "# Rishav Singh\n",
        "#print largest even number from user input list of 5 numbers\n",
        "#value initialization\n",
        "larger= 0    \n",
        "current= 0\n",
        "counter=1\n",
        "\n",
        "#loop for input and checking\n",
        "for i in range(0,5):\n",
        "    numlist= int(input('Enter integer number:'))     #taking input\n",
        "    current= numlist    #storing each value in current\n",
        "    if current%2==0:    #checking for even no\n",
        "        if current> larger:    #checking for the larger number\n",
        "            larger= current    #assigning larger even value to larger variable\n",
        "    if current==0:      #checking for 0 in list\n",
        "        counter=current\n",
        "if larger==0 and counter!=0:     #if no even number (including 0) input\n",
        "    print('No even number input!')\n",
        "else:\n",
        "    print('The largest even number is:', larger)"
      ],
      "execution_count": null,
      "outputs": [
        {
          "output_type": "stream",
          "name": "stdout",
          "text": [
            "Enter integer number:12\n",
            "Enter integer number:-10\n",
            "Enter integer number:63\n",
            "Enter integer number:77\n",
            "Enter integer number:99\n",
            "The largest even number is: 12\n"
          ]
        }
      ]
    },
    {
      "cell_type": "code",
      "metadata": {
        "id": "yA5IumwhpTSD"
      },
      "source": [
        "#Hritik Gupta \n",
        "max_num = -10000\n",
        "for i in range(1,6):\n",
        "    x= int(input('Enter integer'+str(i) +' '))\n",
        "    if x%2==0 and x> max_num:\n",
        "        max_num= x\n",
        "if max_num== -10000:\n",
        "    print('There are no even numbers')\n",
        "else:\n",
        "    print (max_num)\n",
        "    "
      ],
      "execution_count": null,
      "outputs": []
    },
    {
      "cell_type": "code",
      "metadata": {
        "id": "ltM6lB-Xh4JU",
        "colab": {
          "base_uri": "https://localhost:8080/"
        },
        "outputId": "e7da14df-ac9d-4bb3-a2f2-df2408368be0"
      },
      "source": [
        "#Siddharth Gupta\n",
        "num1, num2, num3, num4, num5 = [float(i) for i in input(\"Enter five value: \").split()]\n",
        "\n",
        "min_num = min(num1, num2, num3, num4, num5)\n",
        "\n",
        "if(num1%2 !=0):\n",
        "    num1 = min_num\n",
        "    \n",
        "if(num2%2 != 0):\n",
        "    num2 = min_num\n",
        "\n",
        "if(num3%2 != 0):\n",
        "    num3 = min_num\n",
        "\n",
        "if(num4%2 != 0):\n",
        "    num4 = min_num\n",
        "\n",
        "if(num5%2 != 0):\n",
        "    num5 = min_num\n",
        "\n",
        "Max_even = max(num1, num2, num3, num4, num5);\n",
        "\n",
        "if(Max_even %2 != 0):\n",
        "    print(\"No even number found\")\n",
        "else:\n",
        "    print(\"Largest even number is\", int\n",
        "           (Max_even))"
      ],
      "execution_count": null,
      "outputs": [
        {
          "output_type": "stream",
          "name": "stdout",
          "text": [
            "Enter five value: 23 1 4 2323 -12\n",
            "Largest even number is 4\n"
          ]
        }
      ]
    },
    {
      "cell_type": "code",
      "metadata": {
        "id": "oCtnGT7p7EzX"
      },
      "source": [
        ""
      ],
      "execution_count": null,
      "outputs": []
    },
    {
      "cell_type": "markdown",
      "metadata": {
        "id": "saTgQ138bGr6"
      },
      "source": [
        "\n",
        "2.   Print odd numbers from 0-100 using the range function and its arguments.\n",
        "\n"
      ]
    },
    {
      "cell_type": "code",
      "metadata": {
        "colab": {
          "base_uri": "https://localhost:8080/"
        },
        "id": "ZVBsuejibS33",
        "outputId": "13b0b958-45ca-4b3d-e603-693ad9429e26"
      },
      "source": [
        "#Nayana\n",
        "print('The odd numbers in this range are :')\n",
        "for i in range(1,100,2):\n",
        "    print(i)"
      ],
      "execution_count": null,
      "outputs": [
        {
          "output_type": "stream",
          "text": [
            "The odd numbers in this range are :\n",
            "1\n",
            "3\n",
            "5\n",
            "7\n",
            "9\n",
            "11\n",
            "13\n",
            "15\n",
            "17\n",
            "19\n",
            "21\n",
            "23\n",
            "25\n",
            "27\n",
            "29\n",
            "31\n",
            "33\n",
            "35\n",
            "37\n",
            "39\n",
            "41\n",
            "43\n",
            "45\n",
            "47\n",
            "49\n",
            "51\n",
            "53\n",
            "55\n",
            "57\n",
            "59\n",
            "61\n",
            "63\n",
            "65\n",
            "67\n",
            "69\n",
            "71\n",
            "73\n",
            "75\n",
            "77\n",
            "79\n",
            "81\n",
            "83\n",
            "85\n",
            "87\n",
            "89\n",
            "91\n",
            "93\n",
            "95\n",
            "97\n",
            "99\n"
          ],
          "name": "stdout"
        }
      ]
    },
    {
      "cell_type": "code",
      "metadata": {
        "colab": {
          "base_uri": "https://localhost:8080/"
        },
        "id": "3rcq-SBPfZui",
        "outputId": "e306e384-7c2c-4d3e-fab0-2160aeca3cda"
      },
      "source": [
        "#Pranab Bagartti\n",
        "ty = range(1,100,2)\n",
        "for x in ty:\n",
        "    print(x)"
      ],
      "execution_count": null,
      "outputs": [
        {
          "output_type": "stream",
          "text": [
            "1\n",
            "3\n",
            "5\n",
            "7\n",
            "9\n",
            "11\n",
            "13\n",
            "15\n",
            "17\n",
            "19\n",
            "21\n",
            "23\n",
            "25\n",
            "27\n",
            "29\n",
            "31\n",
            "33\n",
            "35\n",
            "37\n",
            "39\n",
            "41\n",
            "43\n",
            "45\n",
            "47\n",
            "49\n",
            "51\n",
            "53\n",
            "55\n",
            "57\n",
            "59\n",
            "61\n",
            "63\n",
            "65\n",
            "67\n",
            "69\n",
            "71\n",
            "73\n",
            "75\n",
            "77\n",
            "79\n",
            "81\n",
            "83\n",
            "85\n",
            "87\n",
            "89\n",
            "91\n",
            "93\n",
            "95\n",
            "97\n",
            "99\n"
          ],
          "name": "stdout"
        }
      ]
    },
    {
      "cell_type": "code",
      "metadata": {
        "id": "SoBEoMFQh9Y7",
        "colab": {
          "base_uri": "https://localhost:8080/"
        },
        "outputId": "7aa29056-5544-4829-c974-567f56d8476f"
      },
      "source": [
        "#Meghna:\n",
        "\n",
        "for i in range(0,101):\n",
        "    if i%2 == 0:\n",
        "        continue\n",
        "    else:\n",
        "        print(i)"
      ],
      "execution_count": null,
      "outputs": [
        {
          "output_type": "stream",
          "name": "stdout",
          "text": [
            "1\n",
            "3\n",
            "5\n",
            "7\n",
            "9\n",
            "11\n",
            "13\n",
            "15\n",
            "17\n",
            "19\n",
            "21\n",
            "23\n",
            "25\n",
            "27\n",
            "29\n",
            "31\n",
            "33\n",
            "35\n",
            "37\n",
            "39\n",
            "41\n",
            "43\n",
            "45\n",
            "47\n",
            "49\n",
            "51\n",
            "53\n",
            "55\n",
            "57\n",
            "59\n",
            "61\n",
            "63\n",
            "65\n",
            "67\n",
            "69\n",
            "71\n",
            "73\n",
            "75\n",
            "77\n",
            "79\n",
            "81\n",
            "83\n",
            "85\n",
            "87\n",
            "89\n",
            "91\n",
            "93\n",
            "95\n",
            "97\n",
            "99\n"
          ]
        }
      ]
    },
    {
      "cell_type": "code",
      "metadata": {
        "id": "pbrp5pIgh9TQ"
      },
      "source": [
        "#Solution 4:"
      ],
      "execution_count": null,
      "outputs": []
    },
    {
      "cell_type": "code",
      "metadata": {
        "id": "CLQKN6Xph9Jq"
      },
      "source": [
        "#Solution 5:"
      ],
      "execution_count": null,
      "outputs": []
    },
    {
      "cell_type": "markdown",
      "metadata": {
        "id": "eyU3aIEKbaSK"
      },
      "source": [
        "3. Let s be a string that contains a sequence of decimal numbers separated by commas, e.g., s = '1.23, 2.4, 3.123'. Write a program that prints the sum of the numbers in s. Keep in mind the type of numbers these are (not int!)."
      ]
    },
    {
      "cell_type": "code",
      "metadata": {
        "colab": {
          "base_uri": "https://localhost:8080/"
        },
        "id": "wTylaIvXbVRl",
        "outputId": "9d9df74b-2e48-4dcc-8b7e-2469098d2c9c"
      },
      "source": [
        "#Nayana\n",
        "str = (input('Enter decimal numbers each separated by commas'))\n",
        "num = '' # num will store individual float numbers in str\n",
        "sum = 0 \n",
        "for i,c in enumerate(str):\n",
        "    if c != ',':\n",
        "        num += c\n",
        "    else:\n",
        "        sum += float(num)\n",
        "        num = '' #initialize num as empty string again to store the next number in the series\n",
        "sum += float(num) # to account for the last number in the sequence, which isn't added to sum because for loop breaks off before then\n",
        "print('The sum of all decimal numbers is', sum)"
      ],
      "execution_count": null,
      "outputs": [
        {
          "output_type": "stream",
          "text": [
            "Enter decimal numbers each separated by commas1.23, 2.4, 3.123\n",
            "The sum of all decimal numbers is 6.753\n"
          ],
          "name": "stdout"
        }
      ]
    },
    {
      "cell_type": "code",
      "metadata": {
        "id": "cDTZa9ungIFX"
      },
      "source": [
        "#Pranab Bagartti\n",
        "s = input('write numbers seperated by commas : ')\n",
        "start = 0\n",
        "end = len(s)\n",
        "sum_ = 0\n",
        "\n",
        "for d, c in enumerate(s):\n",
        "    if c== ',':\n",
        "        end = d\n",
        "        num = float(s[start:end])\n",
        "        print('the num extracted is: ', num)\n",
        "        start = d +1\n",
        "        sum_ += num\n",
        "        end = end = len(s)\n",
        "        \n",
        "if c != ',':\n",
        "    end = len(s)\n",
        "    num = float(s[start:end])\n",
        "    print('the num extracted is: ', num)\n",
        "    start = d +1\n",
        "    sum_ += num\n",
        "\n",
        "print(sum_)"
      ],
      "execution_count": null,
      "outputs": []
    },
    {
      "cell_type": "code",
      "metadata": {
        "id": "xX2JYwh6iDNe",
        "colab": {
          "base_uri": "https://localhost:8080/"
        },
        "outputId": "42fc7f7c-2908-4795-a47d-74c177aa3d4e"
      },
      "source": [
        "#Rishav Singh\n",
        "#input list of decimals in string and add them\n",
        "str_full = input('Enter list of decimals seperated by comma:')\n",
        "str_single = ''\n",
        "num_single= 0.0\n",
        "sum_decimals= 0.0\n",
        "i= ''\n",
        "for i in str_full:\n",
        "    if i!=',' and i!= str_full[-1]:    #concatenating each character from string until comma\n",
        "        str_single= str_single+ i\n",
        "        \n",
        "    elif i==',' and i!= str_full[-1]:     #checking for comma\n",
        "        num_single= float(str_single)      #converting string to floating point decimal\n",
        "        sum_decimals= sum_decimals+ num_single    #adding floating point decimals\n",
        "        print('Sum intermediate:', sum_decimals)\n",
        "        str_single=''        #reinitializing empty values to variables\n",
        "        num_single=0.0\n",
        "        \n",
        "    if i== str_full[-1]:     #adding last value to the sum\n",
        "        str_single= str_single+ i\n",
        "        num_single= float(str_single)\n",
        "        sum_decimals= sum_decimals+ float(str_single)\n",
        "        print('Last Sum:', sum_decimals)\n",
        "        break\n",
        "        \n",
        "    \n",
        "print('Sum of decimals is', sum_decimals)    #printing final sum"
      ],
      "execution_count": null,
      "outputs": [
        {
          "output_type": "stream",
          "name": "stdout",
          "text": [
            "Enter list of decimals seperated by comma:1.2,1.45,1.37\n",
            "Sum intermediate: 1.2\n",
            "Sum intermediate: 2.65\n",
            "Last Sum: 4.02\n",
            "Sum of decimals is 4.02\n"
          ]
        }
      ]
    },
    {
      "cell_type": "code",
      "metadata": {
        "id": "OgpdadLtiDH5"
      },
      "source": [
        "#Solution 4: Hritik\n",
        "s = '2.33,4.66,8.99'\n",
        "sum_s= 0\n",
        "start_s= 0\n",
        "end_s= len(s)-1\n",
        "\n",
        "for ix,i in enumerate(s):\n",
        "    #print(ix,i)\n",
        "    if i==',':\n",
        "        end_s= ix #ix for the comma\n",
        "        num= s[start_s:end_s]\n",
        "        start_s=ix+1\n",
        "        num=float(num)\n",
        "        sum_s=sum_s+num\n",
        "        print(num)\n",
        "        \n",
        "    if ix==len(s)-1:\n",
        "        start_s=end_s +1 \n",
        "        num=s[start_s:]\n",
        "        num=float(num)\n",
        "        sum_s=sum_s+num\n",
        "        print(num)\n",
        "        \n",
        "print('The sum of the numbers is: ', sum_s)\n",
        "    "
      ],
      "execution_count": null,
      "outputs": []
    },
    {
      "cell_type": "code",
      "metadata": {
        "id": "kRtl5eGxiDAe",
        "colab": {
          "base_uri": "https://localhost:8080/"
        },
        "outputId": "184c4cc8-d3c9-44db-9943-9c4e4d862f7d"
      },
      "source": [
        "#Annalisa\n",
        "s='8,9.7,4.3,5.5,0.7'\n",
        "\n",
        "l=len(s)\n",
        "num=''\n",
        "s1=0        #s1 used as starting point to split string \n",
        "s2=l        #s2 used as end point to split string\n",
        "sum=0\n",
        "\n",
        "for i in range (l):\n",
        "    if s[i] == ',':\n",
        "        s2=i        \n",
        "        \n",
        "        num=float(s[s1:s2])           #splitting at the comma and type casting to float\n",
        "        print ('number=', num)\n",
        "        \n",
        "        s1=i+1                        #changing starting point \n",
        "        \n",
        "        sum=sum+num                    \n",
        "        print ('sum=',sum)\n",
        "       #print (s1)\n",
        "    \n",
        "    if s[i]!= ',' and i == l-1:       #for the last decimal number\n",
        "        \n",
        "        num1=float(s[s1:])\n",
        "        print ('number=',num1)\n",
        "        sum=sum+num1\n",
        "\n",
        "print ('The sum of decimal numbers in', s, '=',sum)"
      ],
      "execution_count": null,
      "outputs": [
        {
          "output_type": "stream",
          "name": "stdout",
          "text": [
            "number= 8.0\n",
            "sum= 8.0\n",
            "number= 9.7\n",
            "sum= 17.7\n",
            "number= 4.3\n",
            "sum= 22.0\n",
            "number= 5.5\n",
            "sum= 27.5\n",
            "number= 0.7\n",
            "The sum of decimal numbers in 8,9.7,4.3,5.5,0.7 = 28.2\n"
          ]
        }
      ]
    },
    {
      "cell_type": "markdown",
      "metadata": {
        "id": "yosQhq2Qb_tS"
      },
      "source": [
        "4. Can you write the exhaustive enumeration program (second one in the Loops notebook) which contains while loop using a for loop instead? It should print out the right answer or indicate that a perfect cube doesn't exist."
      ]
    },
    {
      "cell_type": "code",
      "metadata": {
        "colab": {
          "base_uri": "https://localhost:8080/"
        },
        "id": "1zC-ZVS3g9Dn",
        "outputId": "96e791f8-2fa2-44a1-e0ef-9700281d5444"
      },
      "source": [
        "#Pranab Bagartti\n",
        "\n",
        "cube = float(input('write a number: '))\n",
        "guess = 0\n",
        "while abs(guess**3) < cube:\n",
        "    guess += 1\n",
        "    print(guess)\n",
        "if abs(guess**3) == cube:\n",
        "    print(guess, ' is the cube root of ', cube)\n",
        "else:\n",
        "    print('not a perfect cube')"
      ],
      "execution_count": null,
      "outputs": [
        {
          "output_type": "stream",
          "text": [
            "write a number: 4000\n",
            "1\n",
            "2\n",
            "3\n",
            "4\n",
            "5\n",
            "6\n",
            "7\n",
            "8\n",
            "9\n",
            "10\n",
            "11\n",
            "12\n",
            "13\n",
            "14\n",
            "15\n",
            "16\n",
            "not a perfect cube\n"
          ],
          "name": "stdout"
        }
      ]
    },
    {
      "cell_type": "code",
      "metadata": {
        "id": "0Kp0AuwrcfTV",
        "colab": {
          "base_uri": "https://localhost:8080/"
        },
        "outputId": "4a58bcb5-5724-4e6e-96f7-f966d2d2efd9"
      },
      "source": [
        "#Rishav Singh\n",
        "#exhaustive enumeration using for loop\n",
        "cube=-1331\n",
        "\n",
        "guess=0\n",
        "\n",
        "for guess in range(0, abs(cube)):     #running exhaustive enumeration loop upto the abs value of cube\n",
        "    if guess**3 == abs(cube):         #checking for perfect cube\n",
        "        break\n",
        "    else:\n",
        "        guess=guess+1       # step up by +1\n",
        "        print(guess)\n",
        "\n",
        "if guess**3 != abs(cube):      #checking for imperfect cube\n",
        "    print('not a perfect cube')\n",
        "else:\n",
        "    if cube<0:        # checking for negative number\n",
        "        guess= -guess\n",
        "    print('cube root of ',cube, 'is ', guess)    #final print for a perfect cube"
      ],
      "execution_count": null,
      "outputs": [
        {
          "output_type": "stream",
          "name": "stdout",
          "text": [
            "1\n",
            "2\n",
            "3\n",
            "4\n",
            "5\n",
            "6\n",
            "7\n",
            "8\n",
            "9\n",
            "10\n",
            "11\n",
            "cube root of  -1331 is  -11\n"
          ]
        }
      ]
    },
    {
      "cell_type": "code",
      "metadata": {
        "id": "frTyPslscmuB"
      },
      "source": [
        "# Solution 3: Hritik\n",
        "# Can you write the exhaustive enumeration program (second one) which contains while loop using a for loop instead? \n",
        "#It should print out the right answer or indicate that a perfect cube doesn't exist.\n",
        "\n",
        "# we need to first use a guessing system\n",
        "# determine that guess is near our cube or not \n",
        "# if it is, then moving forward\n",
        "# if it is not, then taking a step back \n",
        "\n",
        "cube= -64\n",
        "x=0 \n",
        "\n",
        "for i in range(1,1000):\n",
        "    if x**3 < abs(cube):\n",
        "        x = x+1\n",
        "        \n",
        "if x**3 > abs(cube):\n",
        "    print ('not a perfect cube')\n",
        "else:\n",
        "    if cube<0:\n",
        "        x= -x\n",
        "    print('cube root of the number',cube,'is',x)"
      ],
      "execution_count": null,
      "outputs": []
    },
    {
      "cell_type": "code",
      "metadata": {
        "id": "q0nqK6-jcmkA",
        "colab": {
          "base_uri": "https://localhost:8080/"
        },
        "outputId": "d817b43b-7788-4ffd-9992-d7c303e27a98"
      },
      "source": [
        "#4:Annalisa\n",
        "\n",
        "cube=-1957816251           \n",
        "guess=0\n",
        "\n",
        "for i in range (0, abs(cube)):\n",
        "  \n",
        "        \n",
        "    if i**3 == abs(cube):\n",
        "        guess=i             #saving the cube root in variable guess\n",
        "        break\n",
        "    \n",
        "\n",
        "if guess==0:\n",
        "    print ('Not a perfect cube')\n",
        "\n",
        "if cube>0:\n",
        "    print ('The cube root of ',cube, '= ', guess)\n",
        "else:\n",
        "    print ('The cube root of ',cube, '= ', -guess)\n",
        "    "
      ],
      "execution_count": null,
      "outputs": [
        {
          "output_type": "stream",
          "name": "stdout",
          "text": [
            "The cube root of  -1957816251 =  -1251\n"
          ]
        }
      ]
    },
    {
      "cell_type": "code",
      "metadata": {
        "id": "8qqUQJam6IW_"
      },
      "source": [
        "#5: Meghna\n",
        "cube=1957816251\n",
        "\n",
        "guess=0\n",
        "\n",
        "for guess in range(abs(cube)):\n",
        "#     print(guess)\n",
        "    if guess**3 >= abs(cube): #If guess power 3 is greater than equals to abs(cube) then break otherwise loop will run\n",
        "        break\n",
        "\n",
        "# while guess**3 < abs(cube):\n",
        "#     guess=guess+1\n",
        "     \n",
        "    \n",
        "if guess**3 != abs(cube):\n",
        "    print('not a perfect cube')\n",
        "else:\n",
        "    if cube<0:\n",
        "        guess= -guess\n",
        "    print('cube root of ',cube, 'is ', guess) "
      ],
      "execution_count": null,
      "outputs": []
    },
    {
      "cell_type": "code",
      "metadata": {
        "id": "iZxK2fne9NEn"
      },
      "source": [
        "#Nayana \n",
        "cube = int(input(\"Enter a number\"))\n",
        "guess = 0\n",
        "for guess in range(0, abs(cube)+1):\n",
        "    if guess**3 == abs(cube):\n",
        "        break  #do what the while statement does in the original program, ie, don't check for all numbers from 0 to cube, break off once the cube of the guess exceeds the cube variable.\n",
        "if (guess**3 != abs(cube)):\n",
        "    print (cube, 'is not a perfect cube')\n",
        "else: #to account for negative input\n",
        "    if cube < 0:\n",
        "        guess = -guess\n",
        "    print ('Cube root of ' + str(cube) + ' is ' + str(guess))"
      ],
      "execution_count": null,
      "outputs": []
    },
    {
      "cell_type": "markdown",
      "metadata": {
        "id": "wj5w-irOcgLu"
      },
      "source": [
        "5. The function split in Python will automatically split a given string by a delimiter (by default, this is space). For example, a string such as I grew a ficus tree gets split into its individual elements 'I', 'grew','a', 'ficus','tree'. Can you write a program that implements the split function using loops and conditionals? (obviously, you cannot use the split() function itself). Your expected output will simply be a string with the individual words separated by commas e.g. I,grew,a,ficus,tree. For the moment, the program only needs to work on a sentence with words separated by space."
      ]
    },
    {
      "cell_type": "code",
      "metadata": {
        "colab": {
          "base_uri": "https://localhost:8080/"
        },
        "id": "K8nEwaQ1gb_8",
        "outputId": "5ce6d2c9-9b3c-429a-8357-b6a3e4f8c227"
      },
      "source": [
        "#Pranab Bagartti\n",
        "s = input('Write a sentence: ')\n",
        "start = 0\n",
        "end = ' '\n",
        "sum_ = ''\n",
        "z = []\n",
        "for d, c in enumerate(s):\n",
        "    if c == ' ':\n",
        "        end = d\n",
        "        word = str(s[start:end])\n",
        "        print('extracted word: ', word)\n",
        "        start = d+1 \n",
        "        z += [word]\n",
        "if c != 0:\n",
        "    end = len(s)\n",
        "    word = str(s[start:end])\n",
        "    print('extracted word: ', word)\n",
        "    z += [word]\n",
        "print(z)"
      ],
      "execution_count": null,
      "outputs": [
        {
          "output_type": "stream",
          "text": [
            "Write a sentence: Write a sentence: I saw a butterfly in the ocean. I must be crazy. lol\n",
            "extracted word:  Write\n",
            "extracted word:  a\n",
            "extracted word:  sentence:\n",
            "extracted word:  I\n",
            "extracted word:  saw\n",
            "extracted word:  a\n",
            "extracted word:  butterfly\n",
            "extracted word:  in\n",
            "extracted word:  the\n",
            "extracted word:  ocean.\n",
            "extracted word:  I\n",
            "extracted word:  must\n",
            "extracted word:  be\n",
            "extracted word:  crazy.\n",
            "extracted word:  lol\n",
            "['Write', 'a', 'sentence:', 'I', 'saw', 'a', 'butterfly', 'in', 'the', 'ocean.', 'I', 'must', 'be', 'crazy.', 'lol']\n"
          ],
          "name": "stdout"
        }
      ]
    },
    {
      "cell_type": "code",
      "metadata": {
        "id": "NYK_cOKzch1L",
        "colab": {
          "base_uri": "https://localhost:8080/"
        },
        "outputId": "ecd3ae50-a873-4165-81bf-feab939f252d"
      },
      "source": [
        "# Rishav Singh\n",
        "#split a string by delimiter\n",
        "sentence= input('Enter a sentence:')\n",
        "x=' '\n",
        "y=''\n",
        "z=0\n",
        "word=''\n",
        "\n",
        "#loop for checking space\n",
        "for z in range(0,len(sentence)):\n",
        "    y= sentence[z]    #save each letter of sentence in y\n",
        "    if y==x:\n",
        "        word= word+ ','    #add comma after each word\n",
        "    else:\n",
        "        word= word+ y     #add each letter to word until space is reached\n",
        "\n",
        "print(word)"
      ],
      "execution_count": null,
      "outputs": [
        {
          "output_type": "stream",
          "name": "stdout",
          "text": [
            "Enter a sentence:Science never solves a problem without creating ten more.\n",
            "Science,never,solves,a,problem,without,creating,ten,more.\n"
          ]
        }
      ]
    },
    {
      "cell_type": "code",
      "metadata": {
        "id": "KSwfDM-scilm",
        "colab": {
          "base_uri": "https://localhost:8080/"
        },
        "outputId": "269e2ded-a635-4b06-baba-a62039013487"
      },
      "source": [
        "# Therese\n",
        "s=input('Enter sentence')\n",
        "l=len(s)\n",
        "word=''\n",
        "split=''\n",
        "for i in range(0,l) :\n",
        "    if s[i]!=' ':\n",
        "        word+=s[i]\n",
        "        print('extract is',word) #to print each step of the extracted word's concatenation\n",
        "    else:\n",
        "        split=split+word+','\n",
        "        word=''\n",
        "    if i==l-1:\n",
        "        split=split+word+'.'\n",
        "print(split)"
      ],
      "execution_count": null,
      "outputs": [
        {
          "output_type": "stream",
          "name": "stdout",
          "text": [
            "Enter sentenceI want to just sleep\n",
            "extract is I\n",
            "extract is w\n",
            "extract is wa\n",
            "extract is wan\n",
            "extract is want\n",
            "extract is t\n",
            "extract is to\n",
            "extract is j\n",
            "extract is ju\n",
            "extract is jus\n",
            "extract is just\n",
            "extract is s\n",
            "extract is sl\n",
            "extract is sle\n",
            "extract is slee\n",
            "extract is sleep\n",
            "I,want,to,just,sleep.\n"
          ]
        }
      ]
    },
    {
      "cell_type": "code",
      "metadata": {
        "id": "HwNPwsAhciVs"
      },
      "source": [
        "# Solution 4: Hritik \n",
        "#take the user's input in the string form \n",
        "#try to find the dividing point in the string, here it has to be space\n",
        "#put a comma after each word as well \n",
        "#print the output\n",
        "\n",
        "#hey how are you \n",
        "#hey, how, are, you\n",
        "\n",
        "x= str(input(\"enter the sentence here!\"))\n",
        "\n",
        "\n",
        "comma_pos = 0\n",
        "\n",
        "for ix, i in enumerate(x):\n",
        "    if i ==' ':\n",
        "        print(x[comma_pos:ix]+',', end = \"\")\n",
        "        comma_pos = ix\n",
        "    \n",
        "print(x[comma_pos:],end=\"\")\n",
        "  \n",
        "    "
      ],
      "execution_count": null,
      "outputs": []
    },
    {
      "cell_type": "code",
      "metadata": {
        "id": "1oCrvUAzQaKB",
        "colab": {
          "base_uri": "https://localhost:8080/"
        },
        "outputId": "32d01282-96ba-4497-b3de-183a708c7d42"
      },
      "source": [
        "#Annalisa\n",
        "s='I grew a ficus tree in my backyard'\n",
        "\n",
        "l=len(s)\n",
        "s1=0       #s1 and s2 act as start and end points for splitting the string\n",
        "s2=l\n",
        "word=''\n",
        "\n",
        "for i in range (l):\n",
        "    if s[i] == ' ':          \n",
        "        s2=i                   #endpoint at position of a space ' '\n",
        "        word=s[s1:s2]          #splits the string from start point to the end point\n",
        "        print (word+',',end='')   \n",
        "        s1=i+1\n",
        "   \n",
        "    if s[i] != ' ' and i == l-1:   #for the last word\n",
        "        lastword=s[s1:]\n",
        "        print (lastword)"
      ],
      "execution_count": null,
      "outputs": [
        {
          "output_type": "stream",
          "name": "stdout",
          "text": [
            "I,grew,a,ficus,tree,in,my,backyard\n"
          ]
        }
      ]
    },
    {
      "cell_type": "code",
      "metadata": {
        "id": "itl7zcVl38t4",
        "colab": {
          "base_uri": "https://localhost:8080/"
        },
        "outputId": "a3520df7-c307-4cfc-e3bb-7b8e03707085"
      },
      "source": [
        "#Srijony\n",
        "sentence = input('enter sentence')\n",
        "word=\"\"\n",
        "for w in sentence :\n",
        "    if w.isalpha():#checks for space\n",
        "        word=word+w#no space, adds letter to word\n",
        "\n",
        "    elif not w.isalpha():\n",
        "      print(word,',',end='')#words already been added in previous if loop, so prints first word before space\n",
        "      word=\"\"\n",
        "print(word+'.')#prints last word"
      ],
      "execution_count": null,
      "outputs": [
        {
          "output_type": "stream",
          "name": "stdout",
          "text": [
            "enter sentenceI am me\n",
            "I ,am ,me.\n"
          ]
        }
      ]
    },
    {
      "cell_type": "code",
      "metadata": {
        "id": "j7Afj4Xi5kgk"
      },
      "source": [
        "#Nayana\n",
        "words = ''\n",
        "for i, element in enumerate(sentence): # i is the index, element is the character\n",
        "    if element!=' ':\n",
        "        words += element\n",
        "    else:\n",
        "        words += ','\n",
        "print(words)"
      ],
      "execution_count": null,
      "outputs": []
    }
  ]
}