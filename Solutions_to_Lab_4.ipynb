{
  "nbformat": 4,
  "nbformat_minor": 0,
  "metadata": {
    "colab": {
      "name": "Solutions to Lab 4.ipynb",
      "provenance": [],
      "collapsed_sections": [],
      "include_colab_link": true
    },
    "kernelspec": {
      "name": "python3",
      "display_name": "Python 3"
    },
    "language_info": {
      "name": "python"
    }
  },
  "cells": [
    {
      "cell_type": "markdown",
      "metadata": {
        "id": "view-in-github",
        "colab_type": "text"
      },
      "source": [
        "<a href=\"https://colab.research.google.com/github/nayana-raj/HSL522/blob/main/Solutions_to_Lab_4.ipynb\" target=\"_parent\"><img src=\"https://colab.research.google.com/assets/colab-badge.svg\" alt=\"Open In Colab\"/></a>"
      ]
    },
    {
      "cell_type": "markdown",
      "metadata": {
        "id": "Km9NFReatsZE"
      },
      "source": [
        "1. Write a function called isIn which takes two strings as its arguments and returns True if either string occurs anywhere in the other e.g. boy in boycott and False otherwise i.e. if the given strings are boy and girl"
      ]
    },
    {
      "cell_type": "code",
      "metadata": {
        "colab": {
          "base_uri": "https://localhost:8080/"
        },
        "id": "18zOjK1mtvNd",
        "outputId": "84904c70-30d3-46f7-9546-f9585e95a0b4"
      },
      "source": [
        "#Nayana:\n",
        "\n",
        "def isIn(str1, str2):\n",
        "    if str1.lower() in str2 or str2.lower() in str1: #accounts for either word having overlapping strings but a character in uppercase\n",
        "        return True\n",
        "    else:\n",
        "        return False\n",
        "\n",
        "isIn('Boy', 'boycott')"
      ],
      "execution_count": null,
      "outputs": [
        {
          "output_type": "execute_result",
          "data": {
            "text/plain": [
              "True"
            ]
          },
          "metadata": {},
          "execution_count": 48
        }
      ]
    },
    {
      "cell_type": "code",
      "metadata": {
        "id": "fISpEe0-t0Qa"
      },
      "source": [
        "#Solution 2:\n"
      ],
      "execution_count": null,
      "outputs": []
    },
    {
      "cell_type": "code",
      "metadata": {
        "id": "E1XRMBV9t0IV"
      },
      "source": [
        "#Solution 3:"
      ],
      "execution_count": null,
      "outputs": []
    },
    {
      "cell_type": "code",
      "metadata": {
        "id": "DHHT3RI_tz-h"
      },
      "source": [
        "#Solution 4:"
      ],
      "execution_count": null,
      "outputs": []
    },
    {
      "cell_type": "code",
      "metadata": {
        "id": "quwYjUSzuxS-"
      },
      "source": [
        ""
      ],
      "execution_count": null,
      "outputs": []
    },
    {
      "cell_type": "markdown",
      "metadata": {
        "id": "rUNASxI9t4Ir"
      },
      "source": [
        "2. Write a function that takes a positive number and returns True if it's even and False otherwise. Use the output of this code in a loop that iterates over numbers between 10-30 and prints whether a number in this range is even or odd."
      ]
    },
    {
      "cell_type": "code",
      "metadata": {
        "colab": {
          "base_uri": "https://localhost:8080/"
        },
        "id": "0p6nGgjot7_T",
        "outputId": "98dc1f5c-f2a2-4040-b8ee-23b427f4841b"
      },
      "source": [
        "#Nayana:\n",
        "\n",
        "def pos(num):\n",
        "    if num%2 == 0:\n",
        "        return True \n",
        "    return False \n",
        "\n",
        "for i in range(10,31):\n",
        "    if pos(i): # i.e., if pos(i) evaluates to true\n",
        "        print(i, 'is even')\n",
        "    else:\n",
        "        print(i,'is odd')"
      ],
      "execution_count": null,
      "outputs": [
        {
          "output_type": "stream",
          "name": "stdout",
          "text": [
            "10 is even\n",
            "11 is odd\n",
            "12 is even\n",
            "13 is odd\n",
            "14 is even\n",
            "15 is odd\n",
            "16 is even\n",
            "17 is odd\n",
            "18 is even\n",
            "19 is odd\n",
            "20 is even\n",
            "21 is odd\n",
            "22 is even\n",
            "23 is odd\n",
            "24 is even\n",
            "25 is odd\n",
            "26 is even\n",
            "27 is odd\n",
            "28 is even\n",
            "29 is odd\n",
            "30 is even\n"
          ]
        }
      ]
    },
    {
      "cell_type": "code",
      "metadata": {
        "id": "va3Plg89t8s5"
      },
      "source": [
        "#Solution 2:"
      ],
      "execution_count": null,
      "outputs": []
    },
    {
      "cell_type": "code",
      "metadata": {
        "id": "gCVJ3NXFt8i2"
      },
      "source": [
        "#Solution 3:"
      ],
      "execution_count": null,
      "outputs": []
    },
    {
      "cell_type": "code",
      "metadata": {
        "id": "9XDNpFoQt8ZG"
      },
      "source": [
        "#Solution 4:"
      ],
      "execution_count": null,
      "outputs": []
    },
    {
      "cell_type": "code",
      "metadata": {
        "id": "NJkZ28xIuv17"
      },
      "source": [
        ""
      ],
      "execution_count": null,
      "outputs": []
    },
    {
      "cell_type": "markdown",
      "metadata": {
        "id": "KJlDjRMNugeh"
      },
      "source": [
        "3. Write a countdown function that takes as input a number to begin its countdown. At every step, it prints the number and when the countdown ends, prints 'Happy new year!'"
      ]
    },
    {
      "cell_type": "code",
      "metadata": {
        "colab": {
          "base_uri": "https://localhost:8080/"
        },
        "id": "xij8tB17ujSQ",
        "outputId": "c52a84f9-7634-467b-d3a0-e83489be3be4"
      },
      "source": [
        "#Nayana:\n",
        "\n",
        "def countdown(i):\n",
        "    if i == 0:\n",
        "        print('Happy new year!')\n",
        "    else:\n",
        "        print(i)\n",
        "        countdown(i-1)\n",
        "n = int(input('Enter a number'))\n",
        "countdown(n)"
      ],
      "execution_count": null,
      "outputs": [
        {
          "output_type": "stream",
          "name": "stdout",
          "text": [
            "Enter a number5\n",
            "5\n",
            "4\n",
            "3\n",
            "2\n",
            "1\n",
            "Happy new year!\n"
          ]
        }
      ]
    },
    {
      "cell_type": "code",
      "metadata": {
        "id": "Q3_ttHSnuj_G"
      },
      "source": [
        "#Solution 2:"
      ],
      "execution_count": null,
      "outputs": []
    },
    {
      "cell_type": "code",
      "metadata": {
        "id": "GT9Z7UFPuj5V"
      },
      "source": [
        "#Solution 3:"
      ],
      "execution_count": null,
      "outputs": []
    },
    {
      "cell_type": "code",
      "metadata": {
        "id": "5NTMsIRhujxi"
      },
      "source": [
        "#Solution 4:"
      ],
      "execution_count": null,
      "outputs": []
    },
    {
      "cell_type": "code",
      "metadata": {
        "id": "EX1K49Kwuu-b"
      },
      "source": [
        ""
      ],
      "execution_count": null,
      "outputs": []
    },
    {
      "cell_type": "markdown",
      "metadata": {
        "id": "zPFcEk-puzRq"
      },
      "source": [
        "4. With the genesis_plaintext corpus as the input string, write functions that can do the following:-\n",
        "i) count the number of characters in the file\n",
        "ii)count the number of uppercase characters\n",
        "ii)count the number of numerals\n",
        "iii)prints the output of all counts in a single print statement\n",
        "Hint: look at the different ways you can read in a file using a filehandle."
      ]
    },
    {
      "cell_type": "markdown",
      "metadata": {
        "id": "usbzCdlnzI0-"
      },
      "source": [
        "**(Don't edit this next block of code, but run it before running your code. The corpus/input string will then be in a variable called inputString, so name your variable/ edit your file path in your code accordingly if you want to run it.)**"
      ]
    },
    {
      "cell_type": "code",
      "metadata": {
        "id": "q2uzspuZ7VEo"
      },
      "source": [
        "import requests\n",
        "response = requests.get('https://raw.githubusercontent.com/nayana-raj/HSL522/main/genesis_plaintext.txt')\n",
        "inputString = response.text"
      ],
      "execution_count": null,
      "outputs": []
    },
    {
      "cell_type": "code",
      "metadata": {
        "colab": {
          "base_uri": "https://localhost:8080/"
        },
        "id": "wuIau13DxiRn",
        "outputId": "2db1f4c8-8528-4769-cb24-4d805afaeb93"
      },
      "source": [
        "#Nayana:\n",
        "def countChar(text):\n",
        "    count = 0\n",
        "    for char in text:\n",
        "        count += 1\n",
        "    return count\n",
        "\n",
        "def countUpper(text):\n",
        "    count = 0\n",
        "    for char in text:\n",
        "        if char.isupper():\n",
        "            count += 1\n",
        "    return count\n",
        "    \n",
        "def countNum(text):\n",
        "    count = 0\n",
        "    for char in text:\n",
        "         if char.isnumeric():\n",
        "                count += 1\n",
        "    return count\n",
        "\n",
        "def printAll(text):\n",
        "    print('\\n The number of characters are: ', countChar(text), '\\n', 'The number of characters in uppercase are: ', countUpper(text), '\\n', 'The number of numerals are: ', countNum(text))\n",
        "    \n",
        "printAll(inputString)\n"
      ],
      "execution_count": null,
      "outputs": [
        {
          "output_type": "stream",
          "name": "stdout",
          "text": [
            "\n",
            " The number of characters are:  198339 \n",
            " The number of characters in uppercase are:  6040 \n",
            " The number of numerals are:  0\n"
          ]
        }
      ]
    },
    {
      "cell_type": "code",
      "metadata": {
        "id": "xaerufa6xiPM"
      },
      "source": [
        "#Solution 2:\n"
      ],
      "execution_count": null,
      "outputs": []
    },
    {
      "cell_type": "code",
      "metadata": {
        "id": "gxp_B_vUxiHD"
      },
      "source": [
        "#Solution 3:\n"
      ],
      "execution_count": null,
      "outputs": []
    },
    {
      "cell_type": "code",
      "metadata": {
        "id": "zg05sw_70GMO"
      },
      "source": [
        "#Solution 4:"
      ],
      "execution_count": null,
      "outputs": []
    },
    {
      "cell_type": "code",
      "metadata": {
        "id": "Deoy7b_a0IbN"
      },
      "source": [
        ""
      ],
      "execution_count": null,
      "outputs": []
    }
  ]
}