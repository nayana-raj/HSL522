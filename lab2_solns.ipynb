{
 "cells": [
  {
   "cell_type": "markdown",
   "metadata": {},
   "source": [
    "\n",
    "1.   Write a program that takes as input 5 integer numbers and outputs the largest even number.\n"
   ]
  },
  {
   "cell_type": "code",
   "execution_count": null,
   "metadata": {},
   "outputs": [],
   "source": [
    "#Pranab Bagartti\n",
    "toPrint = ''\n",
    "lastnum= 0\n",
    "K = 1\n",
    "while K<=5:\n",
    "    newnum = int(input('number likho: '))\n",
    "    K+=1\n",
    "    if newnum > lastnum and newnum%2 == 0:\n",
    "        toPrint = newnum\n",
    "        lastnum = newnum\n",
    "\n",
    "print('the largest even number is: ', toPrint)"
   ]
  },
  {
   "cell_type": "code",
   "execution_count": null,
   "metadata": {},
   "outputs": [],
   "source": [
    "#Nayana\n",
    "toPrint = ''\n",
    "lastnum = 0 # to compare against the current number\n",
    "outeriter = 1 # to loop through 5 numbers\n",
    "while outeriter <= 5:\n",
    "    inputnum = int(input('Enter an integer number'))\n",
    "    outeriter+=1\n",
    "    if inputnum > lastnum and inputnum%2 == 0: # 'and' operator: execute whatever is inside loop only if both conditionals are True\n",
    "            lastnum = inputnum\n",
    "toPrint = lastnum\n",
    "print('The largest even number is  ', toPrint)"
   ]
  },
  {
   "cell_type": "code",
   "execution_count": null,
   "metadata": {},
   "outputs": [],
   "source": [
    "#Nayana\n",
    "flag = 0 # initialize flag = 0 to account for all input being odd\n",
    "inputnum = int(input('Please enter 5 numbers: ')) #asks for first number\n",
    "max = inputnum\n",
    "for i in range (1,5): #asks for the next 4 numbers\n",
    "    inputnum = int(input())\n",
    "    if inputnum%2 == 0:\n",
    "        flag = 1\n",
    "        if inputnum >= max:\n",
    "            max = inputnum\n",
    "    \n",
    "if flag == 0:\n",
    "    print('All the numbers you have entered are odd.')\n",
    "else:\n",
    "    print('The largest even number of the five is', max)"
   ]
  },
  {
   "cell_type": "code",
   "execution_count": null,
   "metadata": {},
   "outputs": [],
   "source": [
    "#Solution 3:"
   ]
  },
  {
   "cell_type": "code",
   "execution_count": null,
   "metadata": {},
   "outputs": [],
   "source": [
    "#Solution 4:"
   ]
  },
  {
   "cell_type": "code",
   "execution_count": null,
   "metadata": {},
   "outputs": [],
   "source": [
    "#Solution 5:"
   ]
  },
  {
   "cell_type": "markdown",
   "metadata": {},
   "source": [
    "\n",
    "2.   Print odd numbers from 0-100 using the range function and its arguments.\n",
    "\n"
   ]
  },
  {
   "cell_type": "code",
   "execution_count": null,
   "metadata": {},
   "outputs": [],
   "source": [
    "#Nayana\n",
    "print('The odd numbers in this range are :')\n",
    "for i in range(1,100,2):\n",
    "    print(i)"
   ]
  },
  {
   "cell_type": "code",
   "execution_count": null,
   "metadata": {},
   "outputs": [],
   "source": [
    "#Solution 2:"
   ]
  },
  {
   "cell_type": "code",
   "execution_count": null,
   "metadata": {},
   "outputs": [],
   "source": [
    "#Solution 3:"
   ]
  },
  {
   "cell_type": "markdown",
   "metadata": {},
   "source": [
    "3. Let s be a string that contains a sequence of decimal numbers separated by commas, e.g., s = '1.23, 2.4, 3.123'. Write a program that prints the sum of the numbers in s. Keep in mind the type of numbers these are (not int!)."
   ]
  },
  {
   "cell_type": "code",
   "execution_count": null,
   "metadata": {},
   "outputs": [],
   "source": [
    "#Nayana\n",
    "str = (input('Enter decimal numbers each separated by commas'))\n",
    "num = '' # num will store individual float numbers in str\n",
    "sum = 0 \n",
    "for i,c in enumerate(str):\n",
    "    if c != ',':\n",
    "        num += c\n",
    "    else:\n",
    "        sum += float(num)\n",
    "        num = '' #initialize num as empty string again to store the next number in the series\n",
    "sum += float(num) # to account for the last number in the sequence, which isn't added to sum because for loop breaks off before then\n",
    "print('The sum of all decimal numbers is', sum)"
   ]
  },
  {
   "cell_type": "code",
   "execution_count": null,
   "metadata": {},
   "outputs": [],
   "source": [
    "#Pranab Bagartti\n",
    "s = input('write numbers seperated by commas : ')\n",
    "start = 0\n",
    "end = len(s)\n",
    "sum_ = 0\n",
    "\n",
    "for d, c in enumerate(s):\n",
    "    if c== ',':\n",
    "        end = d\n",
    "        num = float(s[start:end])\n",
    "        print('the num extracted is: ', num)\n",
    "        start = d +1\n",
    "        sum_ += num\n",
    "        end = end = len(s)\n",
    "        \n",
    "if c != ',':\n",
    "    end = len(s)\n",
    "    num = float(s[start:end])\n",
    "    print('the num extracted is: ', num)\n",
    "    start = d +1\n",
    "    sum_ += num\n",
    "\n",
    "print(sum_)"
   ]
  },
  {
   "cell_type": "code",
   "execution_count": null,
   "metadata": {},
   "outputs": [],
   "source": [
    "#Solution 3:"
   ]
  },
  {
   "cell_type": "code",
   "execution_count": null,
   "metadata": {},
   "outputs": [],
   "source": [
    "#Solution 4:"
   ]
  },
  {
   "cell_type": "code",
   "execution_count": null,
   "metadata": {},
   "outputs": [],
   "source": [
    "#Solution 5:"
   ]
  },
  {
   "cell_type": "markdown",
   "metadata": {},
   "source": [
    "4. Can you write the exhaustive enumeration program (second one in the Loops notebook) which contains while loop using a for loop instead? It should print out the right answer or indicate that a perfect cube doesn't exist."
   ]
  },
  {
   "cell_type": "code",
   "execution_count": null,
   "metadata": {},
   "outputs": [],
   "source": [
    "#Solution 1:"
   ]
  },
  {
   "cell_type": "code",
   "execution_count": null,
   "metadata": {},
   "outputs": [],
   "source": [
    "#Solution 2:"
   ]
  },
  {
   "cell_type": "code",
   "execution_count": null,
   "metadata": {},
   "outputs": [],
   "source": [
    "#Solution 3:"
   ]
  },
  {
   "cell_type": "markdown",
   "metadata": {},
   "source": [
    "5. The function split in Python will automatically split a given string by a delimiter (by default, this is space). For example, a string such as I grew a ficus tree gets split into its individual elements 'I', 'grew','a', 'ficus','tree'. Can you write a program that implements the split function using loops and conditionals? (obviously, you cannot use the split() function itself). Your expected output will simply be a string with the individual words separated by commas e.g. I,grew,a,ficus,tree. For the moment, the program only needs to work on a sentence with words separated by space."
   ]
  },
  {
   "cell_type": "code",
   "execution_count": null,
   "metadata": {},
   "outputs": [],
   "source": [
    "#Pranab Bagartti\n",
    "s = input('Write a sentence: ')\n",
    "start = 0\n",
    "end = ' '\n",
    "sum_ = ''\n",
    "z = []\n",
    "\n",
    "for d, c in enumerate(s):\n",
    "    if c == ' ':\n",
    "        end = d\n",
    "        word = str(s[start:end])\n",
    "        print('extracted word: ', word)\n",
    "        start = d+1  \n",
    "        z += [word]\n",
    "        \n",
    "if c != 0:\n",
    "    end = len(s)\n",
    "    word = str(s[start:end])\n",
    "    print('extracted word: ', word)\n",
    "    z += [word]\n",
    "    \n",
    "print(z)"
   ]
  },
  {
   "cell_type": "code",
   "execution_count": null,
   "metadata": {},
   "outputs": [],
   "source": [
    "#Solution 2:"
   ]
  },
  {
   "cell_type": "code",
   "execution_count": null,
   "metadata": {},
   "outputs": [],
   "source": [
    "#Solution 3:"
   ]
  },
  {
   "cell_type": "code",
   "execution_count": null,
   "metadata": {},
   "outputs": [],
   "source": [
    "#Solution 4:"
   ]
  },
  {
   "cell_type": "code",
   "execution_count": null,
   "metadata": {},
   "outputs": [],
   "source": []
  },
  {
   "cell_type": "code",
   "execution_count": null,
   "metadata": {},
   "outputs": [],
   "source": []
  },
  {
   "cell_type": "code",
   "execution_count": null,
   "metadata": {},
   "outputs": [],
   "source": []
  },
  {
   "cell_type": "code",
   "execution_count": null,
   "metadata": {},
   "outputs": [],
   "source": []
  },
  {
   "cell_type": "code",
   "execution_count": null,
   "metadata": {},
   "outputs": [],
   "source": []
  },
  {
   "cell_type": "code",
   "execution_count": null,
   "metadata": {},
   "outputs": [],
   "source": []
  },
  {
   "cell_type": "code",
   "execution_count": null,
   "metadata": {},
   "outputs": [],
   "source": []
  },
  {
   "cell_type": "code",
   "execution_count": null,
   "metadata": {},
   "outputs": [],
   "source": []
  },
  {
   "cell_type": "code",
   "execution_count": null,
   "metadata": {},
   "outputs": [],
   "source": []
  }
 ],
 "metadata": {
  "kernelspec": {
   "display_name": "Python 3 (ipykernel)",
   "language": "python",
   "name": "python3"
  },
  "language_info": {
   "codemirror_mode": {
    "name": "ipython",
    "version": 3
   },
   "file_extension": ".py",
   "mimetype": "text/x-python",
   "name": "python",
   "nbconvert_exporter": "python",
   "pygments_lexer": "ipython3",
   "version": "3.7.4"
  }
 },
 "nbformat": 4,
 "nbformat_minor": 4
}
