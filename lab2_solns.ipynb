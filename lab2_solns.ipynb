{
 "cells": [
  {
   "cell_type": "markdown",
   "metadata": {},
   "source": [
    "\n",
    "1.   Write a program that takes as input 5 integer numbers and outputs the largest even number.\n"
   ]
  },
  {
   "cell_type": "code",
   "execution_count": null,
   "metadata": {},
   "outputs": [],
   "source": [
    "#Pranab Bagartti\n",
    "toPrint = ''\n",
    "lastnum= 0\n",
    "K = 1\n",
    "while K<=5:\n",
    "    newnum = int(input('number likho: '))\n",
    "    K+=1\n",
    "    if newnum > lastnum and newnum%2 == 0:\n",
    "        toPrint = newnum\n",
    "        lastnum = newnum\n",
    "\n",
    "print('the largest even number is: ', toPrint)"
   ]
  },
  {
   "cell_type": "code",
   "execution_count": null,
   "metadata": {},
   "outputs": [],
   "source": [
    "#Nayana\n",
    "toPrint = ''\n",
    "lastnum = 0 # to compare against the current number\n",
    "outeriter = 1 # to loop through 5 numbers\n",
    "while outeriter <= 5:\n",
    "    inputnum = int(input('Enter an integer number'))\n",
    "    outeriter+=1\n",
    "    if inputnum > lastnum and inputnum%2 == 0: # 'and' operator: execute whatever is inside loop only if both conditionals are True\n",
    "            lastnum = inputnum\n",
    "toPrint = lastnum\n",
    "print('The largest even number is  ', toPrint)"
   ]
  },
  {
   "cell_type": "code",
   "execution_count": null,
   "metadata": {},
   "outputs": [],
   "source": [
    "#Nayana\n",
    "flag = 0 # initialize flag = 0 to account for all input being odd\n",
    "inputnum = int(input('Please enter 5 numbers: ')) #asks for first number\n",
    "max = inputnum\n",
    "for i in range (1,5): #asks for the next 4 numbers\n",
    "    inputnum = int(input())\n",
    "    if inputnum%2 == 0:\n",
    "        flag = 1\n",
    "        if inputnum >= max:\n",
    "            max = inputnum\n",
    "    \n",
    "if flag == 0:\n",
    "    print('All the numbers you have entered are odd.')\n",
    "else:\n",
    "    print('The largest even number of the five is', max)"
   ]
  },
  {
   "cell_type": "code",
   "execution_count": null,
   "metadata": {},
   "outputs": [],
   "source": []
  },
  {
   "cell_type": "code",
   "execution_count": null,
   "metadata": {},
   "outputs": [],
   "source": []
  },
  {
   "cell_type": "code",
   "execution_count": null,
   "metadata": {},
   "outputs": [],
   "source": []
  },
  {
   "cell_type": "code",
   "execution_count": null,
   "metadata": {},
   "outputs": [],
   "source": []
  },
  {
   "cell_type": "code",
   "execution_count": null,
   "metadata": {},
   "outputs": [],
   "source": []
  },
  {
   "cell_type": "code",
   "execution_count": null,
   "metadata": {},
   "outputs": [],
   "source": []
  },
  {
   "cell_type": "code",
   "execution_count": null,
   "metadata": {},
   "outputs": [],
   "source": []
  }
 ],
 "metadata": {
  "kernelspec": {
   "display_name": "Python 3",
   "language": "python",
   "name": "python3"
  },
  "language_info": {
   "codemirror_mode": {
    "name": "ipython",
    "version": 3
   },
   "file_extension": ".py",
   "mimetype": "text/x-python",
   "name": "python",
   "nbconvert_exporter": "python",
   "pygments_lexer": "ipython3",
   "version": "3.7.4"
  }
 },
 "nbformat": 4,
 "nbformat_minor": 2
}
